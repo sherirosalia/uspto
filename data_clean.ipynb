{
 "cells": [
  {
   "cell_type": "code",
   "execution_count": 2,
   "source": [
    "import pandas as pd\n",
    "import numpy as np\n",
    "import re"
   ],
   "outputs": [],
   "metadata": {}
  },
  {
   "cell_type": "code",
   "execution_count": 12,
   "source": [
    "pd.set_option('display.max_rows', 500)\n",
    "pd.set_option('display.max_columns', 500)\n",
    "pd.set_option('display.width', 1000)"
   ],
   "outputs": [],
   "metadata": {}
  },
  {
   "cell_type": "code",
   "execution_count": 16,
   "source": [
    "df = pd.read_csv('sample.csv')"
   ],
   "outputs": [],
   "metadata": {}
  },
  {
   "cell_type": "code",
   "execution_count": 5,
   "source": [
    "# df.sample(10)"
   ],
   "outputs": [],
   "metadata": {}
  },
  {
   "cell_type": "code",
   "execution_count": null,
   "source": [],
   "outputs": [],
   "metadata": {}
  },
  {
   "cell_type": "code",
   "execution_count": 6,
   "source": [
    "df['assignee']=df['assignee'].str.lower()"
   ],
   "outputs": [],
   "metadata": {}
  },
  {
   "cell_type": "code",
   "execution_count": 7,
   "source": [
    "# df.sample(10)"
   ],
   "outputs": [],
   "metadata": {}
  },
  {
   "cell_type": "code",
   "execution_count": null,
   "source": [],
   "outputs": [],
   "metadata": {}
  },
  {
   "cell_type": "code",
   "execution_count": 8,
   "source": [
    "df[['city', 'country']] = df['assignee_location'].str.split(',', 1, expand=True)"
   ],
   "outputs": [],
   "metadata": {}
  },
  {
   "cell_type": "code",
   "execution_count": 9,
   "source": [
    "df['city'] = df['city'].str.rstrip(',')"
   ],
   "outputs": [],
   "metadata": {}
  },
  {
   "cell_type": "code",
   "execution_count": 10,
   "source": [
    "df.sample(5)"
   ],
   "outputs": [
    {
     "output_type": "execute_result",
     "data": {
      "text/plain": [
       "     Unnamed: 0 application_#                                    invention_title category                                    search_term filing_date                      assignee assignee_location                                          inventors                                           file_url                                           abstract        city country\n",
       "258         258    US15058031  AUXILIARY DEVICE TO ENHANCE NATIVE IN-VEHICLE ...  utility                                   high celcius  03-01-2016                           NaN               NaN  ['HORT Christian', 'HUBER Andreas', 'VOGT Herb...  https://dh-opendata.s3.amazonaws.com/publicati...  The present invention provides a removable dev...         NaN     NaN\n",
       "19           19    US13862515           ELECTRICAL WIRING SYSTEM FOR A ROTOR HUB  utility                                   self priming  04-15-2013  bell helicopter textron inc.    Fort Worth, US  ['Davis Hunter J.', 'Sherrill Paul B.', 'Self ...  https://dh-opendata.s3.amazonaws.com/publicati...  The electrical harness system is configured fo...  Fort Worth      US\n",
       "0             0    US13358268  OPTIMIZATION OF SAMPLE CLEANUP DURING FORMATIO...  utility                                   self priming  01-25-2012     baker hughes incorporated       Houston, US  ['Stibbe Holger', 'McEacharn Russell', 'Cernos...  https://dh-opendata.s3.amazonaws.com/publicati...  Disclosed is a formation testing tool for extr...     Houston      US\n",
       "348         348    US14813225  CONSOLIDATING AND TRANSFORMING OBJECT-DESCRIPT...  utility  high temperature self priming ceramic coating  07-30-2015                           NaN               NaN   ['High Donald', 'Atchley Michael', 'Welch Eric']  https://dh-opendata.s3.amazonaws.com/publicati...  Systems and methods are provided for consolida...         NaN     NaN\n",
       "189         189    US15062468        MEDICINE ADMINISTRATION SYSTEMS AND METHODS  utility                                   high celcius  03-07-2016                           NaN               NaN  ['High Donald R.', 'Rone Nicholas D.', 'Atchle...  https://dh-opendata.s3.amazonaws.com/publicati...  A system for medicine management, comprising a...         NaN     NaN"
      ],
      "text/html": [
       "<div>\n",
       "<style scoped>\n",
       "    .dataframe tbody tr th:only-of-type {\n",
       "        vertical-align: middle;\n",
       "    }\n",
       "\n",
       "    .dataframe tbody tr th {\n",
       "        vertical-align: top;\n",
       "    }\n",
       "\n",
       "    .dataframe thead th {\n",
       "        text-align: right;\n",
       "    }\n",
       "</style>\n",
       "<table border=\"1\" class=\"dataframe\">\n",
       "  <thead>\n",
       "    <tr style=\"text-align: right;\">\n",
       "      <th></th>\n",
       "      <th>Unnamed: 0</th>\n",
       "      <th>application_#</th>\n",
       "      <th>invention_title</th>\n",
       "      <th>category</th>\n",
       "      <th>search_term</th>\n",
       "      <th>filing_date</th>\n",
       "      <th>assignee</th>\n",
       "      <th>assignee_location</th>\n",
       "      <th>inventors</th>\n",
       "      <th>file_url</th>\n",
       "      <th>abstract</th>\n",
       "      <th>city</th>\n",
       "      <th>country</th>\n",
       "    </tr>\n",
       "  </thead>\n",
       "  <tbody>\n",
       "    <tr>\n",
       "      <th>258</th>\n",
       "      <td>258</td>\n",
       "      <td>US15058031</td>\n",
       "      <td>AUXILIARY DEVICE TO ENHANCE NATIVE IN-VEHICLE ...</td>\n",
       "      <td>utility</td>\n",
       "      <td>high celcius</td>\n",
       "      <td>03-01-2016</td>\n",
       "      <td>NaN</td>\n",
       "      <td>NaN</td>\n",
       "      <td>['HORT Christian', 'HUBER Andreas', 'VOGT Herb...</td>\n",
       "      <td>https://dh-opendata.s3.amazonaws.com/publicati...</td>\n",
       "      <td>The present invention provides a removable dev...</td>\n",
       "      <td>NaN</td>\n",
       "      <td>NaN</td>\n",
       "    </tr>\n",
       "    <tr>\n",
       "      <th>19</th>\n",
       "      <td>19</td>\n",
       "      <td>US13862515</td>\n",
       "      <td>ELECTRICAL WIRING SYSTEM FOR A ROTOR HUB</td>\n",
       "      <td>utility</td>\n",
       "      <td>self priming</td>\n",
       "      <td>04-15-2013</td>\n",
       "      <td>bell helicopter textron inc.</td>\n",
       "      <td>Fort Worth, US</td>\n",
       "      <td>['Davis Hunter J.', 'Sherrill Paul B.', 'Self ...</td>\n",
       "      <td>https://dh-opendata.s3.amazonaws.com/publicati...</td>\n",
       "      <td>The electrical harness system is configured fo...</td>\n",
       "      <td>Fort Worth</td>\n",
       "      <td>US</td>\n",
       "    </tr>\n",
       "    <tr>\n",
       "      <th>0</th>\n",
       "      <td>0</td>\n",
       "      <td>US13358268</td>\n",
       "      <td>OPTIMIZATION OF SAMPLE CLEANUP DURING FORMATIO...</td>\n",
       "      <td>utility</td>\n",
       "      <td>self priming</td>\n",
       "      <td>01-25-2012</td>\n",
       "      <td>baker hughes incorporated</td>\n",
       "      <td>Houston, US</td>\n",
       "      <td>['Stibbe Holger', 'McEacharn Russell', 'Cernos...</td>\n",
       "      <td>https://dh-opendata.s3.amazonaws.com/publicati...</td>\n",
       "      <td>Disclosed is a formation testing tool for extr...</td>\n",
       "      <td>Houston</td>\n",
       "      <td>US</td>\n",
       "    </tr>\n",
       "    <tr>\n",
       "      <th>348</th>\n",
       "      <td>348</td>\n",
       "      <td>US14813225</td>\n",
       "      <td>CONSOLIDATING AND TRANSFORMING OBJECT-DESCRIPT...</td>\n",
       "      <td>utility</td>\n",
       "      <td>high temperature self priming ceramic coating</td>\n",
       "      <td>07-30-2015</td>\n",
       "      <td>NaN</td>\n",
       "      <td>NaN</td>\n",
       "      <td>['High Donald', 'Atchley Michael', 'Welch Eric']</td>\n",
       "      <td>https://dh-opendata.s3.amazonaws.com/publicati...</td>\n",
       "      <td>Systems and methods are provided for consolida...</td>\n",
       "      <td>NaN</td>\n",
       "      <td>NaN</td>\n",
       "    </tr>\n",
       "    <tr>\n",
       "      <th>189</th>\n",
       "      <td>189</td>\n",
       "      <td>US15062468</td>\n",
       "      <td>MEDICINE ADMINISTRATION SYSTEMS AND METHODS</td>\n",
       "      <td>utility</td>\n",
       "      <td>high celcius</td>\n",
       "      <td>03-07-2016</td>\n",
       "      <td>NaN</td>\n",
       "      <td>NaN</td>\n",
       "      <td>['High Donald R.', 'Rone Nicholas D.', 'Atchle...</td>\n",
       "      <td>https://dh-opendata.s3.amazonaws.com/publicati...</td>\n",
       "      <td>A system for medicine management, comprising a...</td>\n",
       "      <td>NaN</td>\n",
       "      <td>NaN</td>\n",
       "    </tr>\n",
       "  </tbody>\n",
       "</table>\n",
       "</div>"
      ]
     },
     "metadata": {},
     "execution_count": 10
    }
   ],
   "metadata": {}
  },
  {
   "cell_type": "markdown",
   "source": [],
   "metadata": {}
  },
  {
   "cell_type": "code",
   "execution_count": 11,
   "source": [
    "df.to_csv('sample.csv',index=False )"
   ],
   "outputs": [],
   "metadata": {}
  },
  {
   "cell_type": "code",
   "execution_count": null,
   "source": [],
   "outputs": [],
   "metadata": {}
  },
  {
   "cell_type": "code",
   "execution_count": null,
   "source": [],
   "outputs": [],
   "metadata": {}
  }
 ],
 "metadata": {
  "language_info": {
   "name": "python",
   "nbconvert_exporter": "python"
  },
  "orig_nbformat": 4
 },
 "nbformat": 4,
 "nbformat_minor": 2
}